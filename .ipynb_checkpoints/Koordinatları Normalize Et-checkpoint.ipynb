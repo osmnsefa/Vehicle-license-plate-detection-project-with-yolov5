{
 "cells": [
  {
   "cell_type": "code",
   "execution_count": 5,
   "id": "cf1ca138",
   "metadata": {},
   "outputs": [
    {
     "name": "stdout",
     "output_type": "stream",
     "text": [
      "Etiket dosyalarındaki koordinatlar normalleştirildi.\n"
     ]
    }
   ],
   "source": [
    "import os\n",
    "from PIL import Image\n",
    "\n",
    "labels_folder = \"C:\\\\Users\\\\Asus\\\\OneDrive\\\\Masaüstü\\\\Plaka Tespiti Projesi\\\\Data\\\\valid\\\\labels\"\n",
    "\n",
    "for filename in os.listdir(labels_folder):\n",
    "    if filename.endswith(\".txt\"):\n",
    "        file_path = os.path.join(labels_folder, filename)\n",
    "        \n",
    "        # Önce ilgili görüntünün genişliğini ve yüksekliğini al\n",
    "        image_filename = os.path.splitext(filename)[0] + \".jpg\"\n",
    "        image_path = os.path.join(\"C:\\\\Users\\\\Asus\\\\OneDrive\\\\Masaüstü\\\\Plaka Tespiti Projesi\\\\Data\\\\valid\\\\images\", image_filename)\n",
    "        with Image.open(image_path) as img:\n",
    "            image_width, image_height = img.size\n",
    "\n",
    "        # Şimdi normalleştirme işlemini gerçekleştir\n",
    "        with open(file_path, \"r\") as file:\n",
    "            lines = file.readlines()\n",
    "\n",
    "        for i in range(len(lines)):\n",
    "            values = lines[i].split()\n",
    "            x, y, width, height = map(float, values[1:])\n",
    "\n",
    "            normalized_x = x / image_width\n",
    "            normalized_y = y / image_height\n",
    "            normalized_width = width / image_width\n",
    "            normalized_height = height / image_height\n",
    "\n",
    "            lines[i] = f\"{values[0]} {normalized_x} {normalized_y} {normalized_width} {normalized_height}\\n\"\n",
    "\n",
    "        with open(file_path, \"w\") as file:\n",
    "            file.writelines(lines)\n",
    "\n",
    "print(\"Etiket dosyalarındaki koordinatlar normalleştirildi.\")"
   ]
  },
  {
   "cell_type": "code",
   "execution_count": null,
   "id": "5d676338",
   "metadata": {},
   "outputs": [],
   "source": []
  }
 ],
 "metadata": {
  "kernelspec": {
   "display_name": "Python 3 (ipykernel)",
   "language": "python",
   "name": "python3"
  },
  "language_info": {
   "codemirror_mode": {
    "name": "ipython",
    "version": 3
   },
   "file_extension": ".py",
   "mimetype": "text/x-python",
   "name": "python",
   "nbconvert_exporter": "python",
   "pygments_lexer": "ipython3",
   "version": "3.9.12"
  }
 },
 "nbformat": 4,
 "nbformat_minor": 5
}
