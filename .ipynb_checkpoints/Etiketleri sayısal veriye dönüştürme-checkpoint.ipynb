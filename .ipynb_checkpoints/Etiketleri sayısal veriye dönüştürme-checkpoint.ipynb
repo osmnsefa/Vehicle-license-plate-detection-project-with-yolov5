{
 "cells": [
  {
   "cell_type": "code",
   "execution_count": 9,
   "id": "05dc4a42",
   "metadata": {},
   "outputs": [
    {
     "name": "stdout",
     "output_type": "stream",
     "text": [
      "Etiket dosyaları güncellendi.\n"
     ]
    }
   ],
   "source": [
    "import os\n",
    "\n",
    "# Etiket dosyalarının bulunduğu klasör\n",
    "labels_folder = \"C:\\\\Users\\\\Asus\\\\OneDrive\\\\Masaüstü\\\\Plaka Tespiti Projesi\\\\Data\\\\Test\\\\labels\"\n",
    "\n",
    "# Değiştirmek istediğimiz metin\n",
    "old_text = \"Vehicle registration plate\"\n",
    "\n",
    "# Dönüştürmek istediğimiz sayı\n",
    "new_number = 0\n",
    "\n",
    "# Etiket dosyalarınızın bulunduğu dizindeki tüm dosyaları kontrol et\n",
    "for filename in os.listdir(labels_folder):\n",
    "    if filename.endswith(\".txt\"):\n",
    "        file_path = os.path.join(labels_folder, filename)\n",
    "        with open(file_path, \"r\") as file:\n",
    "            lines = file.readlines()\n",
    "\n",
    "        # Her satırdaki metni kontrol et ve gerekli değişiklikleri yap\n",
    "        for i in range(len(lines)):\n",
    "            if old_text in lines[i]:\n",
    "                lines[i] = lines[i].replace(old_text, str(new_number))\n",
    "\n",
    "        # Değişiklikleri dosyaya yaz\n",
    "        with open(file_path, \"w\") as file:\n",
    "            file.writelines(lines)\n",
    "\n",
    "print(\"Etiket dosyaları güncellendi.\")"
   ]
  },
  {
   "cell_type": "code",
   "execution_count": null,
   "id": "8f383828",
   "metadata": {},
   "outputs": [],
   "source": []
  }
 ],
 "metadata": {
  "kernelspec": {
   "display_name": "Python 3 (ipykernel)",
   "language": "python",
   "name": "python3"
  },
  "language_info": {
   "codemirror_mode": {
    "name": "ipython",
    "version": 3
   },
   "file_extension": ".py",
   "mimetype": "text/x-python",
   "name": "python",
   "nbconvert_exporter": "python",
   "pygments_lexer": "ipython3",
   "version": "3.9.12"
  }
 },
 "nbformat": 4,
 "nbformat_minor": 5
}
